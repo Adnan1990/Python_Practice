{
 "cells": [
  {
   "cell_type": "code",
   "execution_count": 1,
   "metadata": {},
   "outputs": [
    {
     "name": "stdout",
     "output_type": "stream",
     "text": [
      "No\n",
      "20 kilometers per liter\n",
      "The car name is audi. Model of car A8 and car color is brown\n"
     ]
    },
    {
     "data": {
      "text/plain": [
       "'mercades'"
      ]
     },
     "execution_count": 1,
     "metadata": {},
     "output_type": "execute_result"
    }
   ],
   "source": [
    "#inheritance\n",
    "\n",
    "class Car():\n",
    "    def __init__(self,name,model,color):\n",
    "        self.name = name\n",
    "        self.model = model\n",
    "        self.color = color\n",
    "        \n",
    "    def average(self,kilo):\n",
    "        print(\"{} kilometers per liter\".format(kilo))\n",
    "        \n",
    "    def tank(self):\n",
    "        print(\"yes\")\n",
    "        \n",
    "class Electric_car(Car):\n",
    "    def __init__(self,name,model,color):\n",
    "        # super method to call parent method\n",
    "        super().__init__(name,model,color)\n",
    "    \n",
    "    def tank(self):\n",
    "        print(\"No\")\n",
    "        \n",
    "    def get_description(self):\n",
    "        print(\"The car name is {}. Model of car {} and car color is {}\".format(self.name,self.model,self.color))\n",
    "        \n",
    "car1 = Car('audi','A3','black')\n",
    "\n",
    "new_car = Electric_car('audi','A8','brown')\n",
    "\n",
    "new_car.tank()\n",
    "new_car.average(20)\n",
    "new_car.get_description()\n",
    "\n",
    "car1.name\n",
    "car1.name = 'mercades'\n",
    "car1.name"
   ]
  },
  {
   "cell_type": "code",
   "execution_count": 5,
   "metadata": {},
   "outputs": [
    {
     "name": "stdout",
     "output_type": "stream",
     "text": [
      "30 kilometers per Liter\n",
      "30 kilometers per Liter\n"
     ]
    },
    {
     "ename": "AttributeError",
     "evalue": "'NewCar' object has no attribute '__maxAverage'",
     "output_type": "error",
     "traceback": [
      "\u001b[0;31m---------------------------------------------------------------------------\u001b[0m",
      "\u001b[0;31mAttributeError\u001b[0m                            Traceback (most recent call last)",
      "\u001b[0;32m<ipython-input-5-4fa8665cd2d9>\u001b[0m in \u001b[0;36m<module>\u001b[0;34m\u001b[0m\n\u001b[1;32m     16\u001b[0m \u001b[0;34m\u001b[0m\u001b[0m\n\u001b[1;32m     17\u001b[0m \u001b[0mobj\u001b[0m\u001b[0;34m.\u001b[0m\u001b[0maverage\u001b[0m\u001b[0;34m(\u001b[0m\u001b[0;34m)\u001b[0m \u001b[0;31m#average is not changed\u001b[0m\u001b[0;34m\u001b[0m\u001b[0;34m\u001b[0m\u001b[0m\n\u001b[0;32m---> 18\u001b[0;31m \u001b[0mprint\u001b[0m\u001b[0;34m(\u001b[0m\u001b[0mobj\u001b[0m\u001b[0;34m.\u001b[0m\u001b[0m__maxAverage\u001b[0m \u001b[0;34m)\u001b[0m\u001b[0;34m\u001b[0m\u001b[0;34m\u001b[0m\u001b[0m\n\u001b[0m\u001b[1;32m     19\u001b[0m \u001b[0;34m\u001b[0m\u001b[0m\n\u001b[1;32m     20\u001b[0m \u001b[0mobj\u001b[0m\u001b[0;34m.\u001b[0m\u001b[0maverage\u001b[0m\u001b[0;34m(\u001b[0m\u001b[0;34m)\u001b[0m\u001b[0;34m\u001b[0m\u001b[0;34m\u001b[0m\u001b[0m\n",
      "\u001b[0;31mAttributeError\u001b[0m: 'NewCar' object has no attribute '__maxAverage'"
     ]
    }
   ],
   "source": [
    "#encapsulation\n",
    "\n",
    "class NewCar():\n",
    "    def __init__(self):\n",
    "        self.__maxAverage = 30\n",
    "        \n",
    "    def average(self):\n",
    "        print(\"{} kilometers per Liter\".format(self.__maxAverage))\n",
    "        \n",
    "    def updateAverage(self,updated_value):\n",
    "        self.__maxAverage = updated_value\n",
    "        \n",
    "obj = NewCar()\n",
    "\n",
    "obj.average()\n",
    "\n",
    "obj.__maxAverage = 60\n",
    "obj.average() #average is not changed\n",
    "\n",
    "obj.updateAverage(35)\n",
    "\n",
    "obj.average()\n",
    "        "
   ]
  },
  {
   "cell_type": "code",
   "execution_count": 7,
   "metadata": {},
   "outputs": [
    {
     "name": "stdout",
     "output_type": "stream",
     "text": [
      "6\n",
      "16\n"
     ]
    }
   ],
   "source": [
    "class OverloadingDemo():\n",
    "    def sum(self,a=None,b=None,c=None):\n",
    "        if a!= None and b!= None and c!=None:\n",
    "            print(a+b+c)\n",
    "        elif a!= None and b!= None:\n",
    "            print(a+b)\n",
    "        \n",
    "        \n",
    "        \n",
    "obj3 = OverloadingDemo()\n",
    "\n",
    "obj3.sum(2,4)\n",
    "obj3.sum(2,4,10)\n"
   ]
  },
  {
   "cell_type": "code",
   "execution_count": 27,
   "metadata": {},
   "outputs": [
    {
     "name": "stdout",
     "output_type": "stream",
     "text": [
      "The capital of pakistan Islamabad. population of pakistan of 20 core\n",
      "The capital of USA is Washington DC and population of USA 40 core\n"
     ]
    }
   ],
   "source": [
    "#polymorpism\n",
    "\n",
    "class Pakistan():\n",
    "    def detail(self):\n",
    "        print(\"The capital of pakistan Islamabad. population of pakistan of 20 core\")\n",
    "        \n",
    "class USA():\n",
    "    def detail(self):\n",
    "        print(\"The capital of USA is Washington DC and population of USA 40 core\")\n",
    "        \n",
    "        \n",
    "def description(country):\n",
    "    country.detail()\n",
    "    \n",
    "pak = Pakistan()\n",
    "usa = USA()\n",
    "\n",
    "description(pak)\n",
    "description(usa)"
   ]
  },
  {
   "cell_type": "code",
   "execution_count": 8,
   "metadata": {},
   "outputs": [
    {
     "name": "stdout",
     "output_type": "stream",
     "text": [
      "8\n",
      "4\n"
     ]
    }
   ],
   "source": [
    "#len function is an example of function overloading\n",
    "print(len(\"muhammad\"))\n",
    "print(len([1,2,3,4]))"
   ]
  },
  {
   "cell_type": "code",
   "execution_count": 14,
   "metadata": {},
   "outputs": [
    {
     "name": "stdout",
     "output_type": "stream",
     "text": [
      "he gives 6 tola\n",
      "valima going on\n"
     ]
    }
   ],
   "source": [
    "#abstraction\n",
    "\n",
    "# Inctance of abstract class cannot be created \n",
    "# \n",
    "from abc import ABC,abstractmethod\n",
    "\n",
    "class Nikkah(ABC):\n",
    "    def ab(self):\n",
    "        print(\"Adnan\")\n",
    "    @abstractmethod\n",
    "    def haqmaher(self):\n",
    "        pass\n",
    "    \n",
    "class Human1(Nikkah):\n",
    "    def haqmaher(self,tola):\n",
    "        print(\"he gives \" + str(tola) + \" tola\")\n",
    "\n",
    "    def valima(self):\n",
    "        print(\"valima going on\")\n",
    "        \n",
    "obj6 = Human1()\n",
    "obj6.haqmaher(6)\n",
    "obj6.valima()"
   ]
  },
  {
   "cell_type": "code",
   "execution_count": null,
   "metadata": {},
   "outputs": [],
   "source": []
  }
 ],
 "metadata": {
  "kernelspec": {
   "display_name": "Python 3",
   "language": "python",
   "name": "python3"
  },
  "language_info": {
   "codemirror_mode": {
    "name": "ipython",
    "version": 3
   },
   "file_extension": ".py",
   "mimetype": "text/x-python",
   "name": "python",
   "nbconvert_exporter": "python",
   "pygments_lexer": "ipython3",
   "version": "3.7.4"
  }
 },
 "nbformat": 4,
 "nbformat_minor": 2
}
