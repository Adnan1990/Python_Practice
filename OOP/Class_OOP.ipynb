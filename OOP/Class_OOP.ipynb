{
 "cells": [
  {
   "cell_type": "markdown",
   "metadata": {},
   "source": [
    "# Object oriented programming"
   ]
  },
  {
   "cell_type": "code",
   "execution_count": 1,
   "metadata": {},
   "outputs": [
    {
     "name": "stdout",
     "output_type": "stream",
     "text": [
      "Patient\n"
     ]
    }
   ],
   "source": [
    "# class name begins with a capital letter\n",
    "class Patient():\n",
    "    # slef should always be first parameter ==> constructor\n",
    "    def __init__(self):\n",
    "        print(\"Patient\")\n",
    "        \n",
    "        \n",
    "patient1 = Patient()\n"
   ]
  },
  {
   "cell_type": "code",
   "execution_count": 1,
   "metadata": {},
   "outputs": [
    {
     "name": "stdout",
     "output_type": "stream",
     "text": [
      "\n",
      "Car1 Details \n",
      "\n",
      "Name: Ferrari \n",
      "Color: White \n",
      "Model: 2008 \n",
      "Price: 3000000 \n",
      "Mileage: 20\n",
      "\n",
      "Car2 Details \n",
      "\n",
      "Name: Mehran \n",
      "Color: Grey \n",
      "Model: 2002 \n",
      "Price: 250000 \n",
      "Mileage: 16\n",
      "\n",
      "Car3 Details \n",
      "\n",
      "Name: Civic \n",
      "Color: Black \n",
      "Model: 2018 \n",
      "Price: 205000 \n",
      "Mileage: 18\n",
      "\n",
      "Car4 Details \n",
      "\n",
      "Name: Vitz \n",
      "Color: Dark Mehroon \n",
      "Model: 2006 \n",
      "Price: 400000 \n",
      "Mileage: 16\n",
      "\n",
      "Car5 Details \n",
      "\n",
      "Name: Suzuki \n",
      "Color: Green \n",
      "Model: 2002 \n",
      "Price: 240000 \n",
      "Mileage: 15\n",
      "\n",
      "Car1 Details After updaring color and price \n",
      "\n",
      "Name: Ferrari \n",
      "Color: Red \n",
      "Model: 2008 \n",
      "Price: 260000 \n",
      "Mileage: 20\n"
     ]
    }
   ],
   "source": [
    "\"\"\"\n",
    "Car class with some attributes and behaviours\n",
    "\n",
    "\"\"\"\n",
    "class Car():\n",
    "    def __init__(self,name,color,model,price,mileage):\n",
    "        self.name = name\n",
    "        self.color = color\n",
    "        self.model = model\n",
    "        self.price = price\n",
    "        self.mileage = mileage\n",
    "    \n",
    "    def update_color(self, color):\n",
    "        self.color = color\n",
    "        \n",
    "    def update_price(self, price):\n",
    "        self.price = price\n",
    "        \n",
    "    def get_details(self):\n",
    "        print(\"Name:\",self.name,\"\\nColor:\",self.color,\"\\nModel:\",self.model,\"\\nPrice:\",self.price,\"\\nMileage:\",self.mileage)\n",
    "\n",
    "\n",
    "# Creating instance/Object of Car \n",
    "\n",
    "car1 = Car(\"Ferrari\",\"White\",2008,3000000,20)\n",
    "car2 = Car (\"Mehran\",\"Grey\",2002,250000,16)\n",
    "car3 = Car(\"Civic\",\"Black\",2018,205000,18)\n",
    "car4 = Car(\"Vitz\",\"Dark Mehroon\",2006,400000,16)\n",
    "car5 = Car(\"Suzuki\",\"Green\",2002,240000,15)\n",
    "\n",
    "print(\"\\nCar1 Details \\n\")\n",
    "car1.get_details()\n",
    "print(\"\\nCar2 Details \\n\")\n",
    "car2.get_details()\n",
    "print(\"\\nCar3 Details \\n\")\n",
    "car3.get_details()\n",
    "print(\"\\nCar4 Details \\n\")\n",
    "car4.get_details()\n",
    "print(\"\\nCar5 Details \\n\")\n",
    "car5.get_details()\n",
    "\n",
    "\n",
    "car1.update_color(\"Red\")\n",
    "car1.update_price(260000)\n",
    "\n",
    "print(\"\\nCar1 Details After updaring color and price \\n\")\n",
    "car1.get_details()"
   ]
  },
  {
   "cell_type": "code",
   "execution_count": null,
   "metadata": {},
   "outputs": [],
   "source": []
  }
 ],
 "metadata": {
  "kernelspec": {
   "display_name": "Python 3",
   "language": "python",
   "name": "python3"
  },
  "language_info": {
   "codemirror_mode": {
    "name": "ipython",
    "version": 3
   },
   "file_extension": ".py",
   "mimetype": "text/x-python",
   "name": "python",
   "nbconvert_exporter": "python",
   "pygments_lexer": "ipython3",
   "version": "3.7.4"
  }
 },
 "nbformat": 4,
 "nbformat_minor": 2
}
