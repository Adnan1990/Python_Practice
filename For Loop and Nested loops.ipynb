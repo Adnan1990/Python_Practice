{
 "cells": [
  {
   "cell_type": "code",
   "execution_count": 1,
   "metadata": {},
   "outputs": [
    {
     "name": "stdout",
     "output_type": "stream",
     "text": [
      "Cheyenne\n",
      "Santa Fe\n",
      "Tucson\n",
      "Great Falls\n",
      "Honolulu\n"
     ]
    }
   ],
   "source": [
    "cleanest_cities = [\"Cheyenne\", \"Santa Fe\", \"Tucson\", \"Great Falls\", \"Honolulu\"]\n",
    "\n",
    "for city in cleanest_cities:\n",
    "    print(city)"
   ]
  },
  {
   "cell_type": "code",
   "execution_count": 15,
   "metadata": {},
   "outputs": [
    {
     "name": "stdout",
     "output_type": "stream",
     "text": [
      "Tucson  ==> It's one of the cleanest cities\n"
     ]
    }
   ],
   "source": [
    "# Applying conditions within for loops\n",
    "# Indentation is the key for running codes in python. It will specify which code statetment/statements are eligible\n",
    "# to  excecute under what condition based on indention\n",
    "\n",
    "#city_to_check = 'Rawalpindi'\n",
    "city_to_check = 'Tucson'\n",
    "\n",
    "is_found = False\n",
    "\n",
    "for a_clean_city in cleanest_cities:\n",
    "    if city_to_check == a_clean_city:\n",
    "        is_found = True\n",
    "        print(a_clean_city ,\" ==> It's one of the cleanest cities\")\n",
    "        break  # stop iteration and exit from loop\n",
    "        \n",
    "if is_found != True:\n",
    "    print(city_to_check,\" is not a cleanest city\")"
   ]
  },
  {
   "cell_type": "code",
   "execution_count": 29,
   "metadata": {},
   "outputs": [
    {
     "data": {
      "text/plain": [
       "['ADNAN  RAO',\n",
       " 'ADNAN  RANA',\n",
       " 'ZEESHAN RAO',\n",
       " 'ZEESHAN RANA',\n",
       " 'IRFAN RAO',\n",
       " 'IRFAN RANA',\n",
       " 'KAMRAN  RAO',\n",
       " 'KAMRAN  RANA']"
      ]
     },
     "execution_count": 29,
     "metadata": {},
     "output_type": "execute_result"
    }
   ],
   "source": [
    "# Nested for loop\n",
    "\n",
    "first_names = [\"ADNAN \", \"ZEESHAN\", \"IRFAN\", \"KAMRAN \"]\n",
    "last_names = [\"RAO\",\"RANA\"]\n",
    "\n",
    "full_names =[]\n",
    "\n",
    "for fname in first_names:\n",
    "    for lname in last_names:\n",
    "        full_names.append(fname+\" \"+lname) #Concatination of strings by adding +\n",
    "\n",
    "full_names\n"
   ]
  },
  {
   "cell_type": "code",
   "execution_count": null,
   "metadata": {},
   "outputs": [],
   "source": []
  }
 ],
 "metadata": {
  "kernelspec": {
   "display_name": "Python 3",
   "language": "python",
   "name": "python3"
  },
  "language_info": {
   "codemirror_mode": {
    "name": "ipython",
    "version": 3
   },
   "file_extension": ".py",
   "mimetype": "text/x-python",
   "name": "python",
   "nbconvert_exporter": "python",
   "pygments_lexer": "ipython3",
   "version": "3.7.4"
  }
 },
 "nbformat": 4,
 "nbformat_minor": 2
}
