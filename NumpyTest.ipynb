{
 "cells": [
  {
   "cell_type": "code",
   "execution_count": 1,
   "metadata": {},
   "outputs": [
    {
     "name": "stdout",
     "output_type": "stream",
     "text": [
      "Python3.8\n"
     ]
    }
   ],
   "source": [
    "print(\"Python3.8\")"
   ]
  },
  {
   "cell_type": "code",
   "execution_count": 5,
   "metadata": {},
   "outputs": [
    {
     "name": "stdout",
     "output_type": "stream",
     "text": [
      "importing Jupyter notebook from moduleabc.ipynb\n"
     ]
    },
    {
     "data": {
      "text/plain": [
       "8"
      ]
     },
     "execution_count": 5,
     "metadata": {},
     "output_type": "execute_result"
    }
   ],
   "source": [
    "import import_ipynb\n",
    "import moduleabc\n",
    "moduleabc.add(3,5)\n"
   ]
  },
  {
   "cell_type": "code",
   "execution_count": 26,
   "metadata": {},
   "outputs": [
    {
     "name": "stdout",
     "output_type": "stream",
     "text": [
      "[[-0.57509137 -0.38400156  0.57797989 -1.71970546]] \n",
      "\n",
      "[[-1.15018274 -0.76800312  1.15595978 -3.43941091]] \n",
      "\n",
      "[[ -5.75091371  -3.84001561   5.77979892 -17.19705457]] \n",
      "\n",
      "(1, 4) \n",
      "\n",
      "float64 \n",
      "\n",
      "2 \n",
      "\n"
     ]
    }
   ],
   "source": [
    "import numpy as np\n",
    "\n",
    "data = np.random.randn(1,4)\n",
    "print(data,'\\n')\n",
    "\n",
    "print(data+data,'\\n')\n",
    "\n",
    "print(data *10,'\\n')\n",
    "\n",
    "print(data.shape,'\\n')\n",
    "\n",
    "print(data.dtype,'\\n')\n",
    "\n",
    "print(data.ndim,'\\n')\n",
    "\n"
   ]
  },
  {
   "cell_type": "code",
   "execution_count": null,
   "metadata": {},
   "outputs": [],
   "source": []
  }
 ],
 "metadata": {
  "kernelspec": {
   "display_name": "Python 3",
   "language": "python",
   "name": "python3"
  },
  "language_info": {
   "codemirror_mode": {
    "name": "ipython",
    "version": 3
   },
   "file_extension": ".py",
   "mimetype": "text/x-python",
   "name": "python",
   "nbconvert_exporter": "python",
   "pygments_lexer": "ipython3",
   "version": "3.7.4"
  }
 },
 "nbformat": 4,
 "nbformat_minor": 2
}
