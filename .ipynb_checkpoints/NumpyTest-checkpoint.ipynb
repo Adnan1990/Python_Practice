{
 "cells": [
  {
   "cell_type": "code",
   "execution_count": 1,
   "metadata": {},
   "outputs": [
    {
     "name": "stdout",
     "output_type": "stream",
     "text": [
      "Python3.8\n"
     ]
    }
   ],
   "source": [
    "print(\"Python3.8\")"
   ]
  },
  {
   "cell_type": "code",
   "execution_count": 3,
   "metadata": {},
   "outputs": [
    {
     "name": "stdout",
     "output_type": "stream",
     "text": [
      "importing Jupyter notebook from MyModule.ipynb\n"
     ]
    },
    {
     "data": {
      "text/plain": [
       "8"
      ]
     },
     "execution_count": 3,
     "metadata": {},
     "output_type": "execute_result"
    }
   ],
   "source": [
    "import import_ipynb\n",
    "import MyModule\n",
    "MyModule.add(3,5)\n"
   ]
  },
  {
   "cell_type": "code",
   "execution_count": 4,
   "metadata": {},
   "outputs": [
    {
     "name": "stdout",
     "output_type": "stream",
     "text": [
      "[[ 1.68730167  0.85666814 -0.48689049 -0.96057344]] \n",
      "\n",
      "[[ 3.37460335  1.71333628 -0.97378099 -1.92114689]] \n",
      "\n",
      "[[16.87301675  8.56668142 -4.86890494 -9.60573443]] \n",
      "\n",
      "(1, 4) \n",
      "\n",
      "float64 \n",
      "\n",
      "2 \n",
      "\n"
     ]
    }
   ],
   "source": [
    "import numpy as np\n",
    "\n",
    "data = np.random.randn(1,4)\n",
    "print(data,'\\n')\n",
    "\n",
    "print(data+data,'\\n')\n",
    "\n",
    "print(data *10,'\\n')\n",
    "\n",
    "print(data.shape,'\\n')\n",
    "\n",
    "print(data.dtype,'\\n')\n",
    "\n",
    "print(data.ndim,'\\n')\n",
    "\n"
   ]
  }
 ],
 "metadata": {
  "kernelspec": {
   "display_name": "Python 3",
   "language": "python",
   "name": "python3"
  },
  "language_info": {
   "codemirror_mode": {
    "name": "ipython",
    "version": 3
   },
   "file_extension": ".py",
   "mimetype": "text/x-python",
   "name": "python",
   "nbconvert_exporter": "python",
   "pygments_lexer": "ipython3",
   "version": "3.7.4"
  }
 },
 "nbformat": 4,
 "nbformat_minor": 2
}
