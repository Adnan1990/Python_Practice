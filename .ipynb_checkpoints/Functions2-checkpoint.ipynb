{
 "cells": [
  {
   "cell_type": "code",
   "execution_count": 1,
   "metadata": {},
   "outputs": [
    {
     "name": "stdout",
     "output_type": "stream",
     "text": [
      "33\n"
     ]
    }
   ],
   "source": [
    "def addnum():\n",
    "    firstnum=\"3\"\n",
    "    secondnum=\"3\"\n",
    "    result=firstnum+secondnum\n",
    "    print(result)\n",
    "addnum()    "
   ]
  },
  {
   "cell_type": "code",
   "execution_count": 37,
   "metadata": {},
   "outputs": [
    {
     "name": "stdout",
     "output_type": "stream",
     "text": [
      "30\n"
     ]
    }
   ],
   "source": [
    "def addnum(firstnum,secondnum):\n",
    "    result=firstnum+secondnum\n",
    "    print(result)\n",
    "addnum(10,20)"
   ]
  },
  {
   "cell_type": "code",
   "execution_count": 35,
   "metadata": {},
   "outputs": [
    {
     "name": "stdout",
     "output_type": "stream",
     "text": [
      "30\n"
     ]
    }
   ],
   "source": [
    "def addnum(firstnum,secondnum):\n",
    "    result=firstnum+secondnum\n",
    "    print(result) #function scope ends here\n",
    "\n",
    "firstnum=10\n",
    "secondnum=20\n",
    "\n",
    "addnum(firstnum,secondnum)\n",
    "    \n",
    "    "
   ]
  },
  {
   "cell_type": "code",
   "execution_count": 36,
   "metadata": {},
   "outputs": [
    {
     "name": "stdout",
     "output_type": "stream",
     "text": [
      "30\n"
     ]
    }
   ],
   "source": [
    "def addnum(num1,num2):\n",
    "    result=num1+num2\n",
    "    print(result) #function scope ends here\n",
    "\n",
    "firstnum=10\n",
    "secondnum=20\n",
    "\n",
    "addnum(firstnum,secondnum)"
   ]
  },
  {
   "cell_type": "code",
   "execution_count": 34,
   "metadata": {},
   "outputs": [
    {
     "name": "stdout",
     "output_type": "stream",
     "text": [
      "30\n"
     ]
    }
   ],
   "source": [
    "def addnum(firstnum,secondnum):\n",
    "    result=firstnum+secondnum\n",
    "    print(result) #function scope ends here\n",
    "\n",
    "\n",
    "addnum(firstnum=10,secondnum=20)"
   ]
  },
  {
   "cell_type": "code",
   "execution_count": 7,
   "metadata": {},
   "outputs": [
    {
     "name": "stdout",
     "output_type": "stream",
     "text": [
      "-10\n"
     ]
    }
   ],
   "source": [
    "def addnum(secondnum,firstnum): # positional order changing example\n",
    "    result=secondnum-firstnum\n",
    "    print(result) \n",
    "\n",
    "firstnum=10\n",
    "secondnum=20\n",
    "\n",
    "addnum(firstnum,secondnum)"
   ]
  },
  {
   "cell_type": "code",
   "execution_count": 33,
   "metadata": {},
   "outputs": [
    {
     "name": "stdout",
     "output_type": "stream",
     "text": [
      "-10\n"
     ]
    }
   ],
   "source": [
    "def addnum(ten,twenty): #order changing example\n",
    "    result=ten-secondnum\n",
    "    print(result) \n",
    "\n",
    "firstnum=10\n",
    "secondnum=20\n",
    "\n",
    "addnum(firstnum,secondnum)"
   ]
  },
  {
   "cell_type": "code",
   "execution_count": 32,
   "metadata": {},
   "outputs": [
    {
     "name": "stdout",
     "output_type": "stream",
     "text": [
      "10\n",
      "-10\n"
     ]
    }
   ],
   "source": [
    "def addnum(secondnum,firstnum): #keyword\n",
    "    result=secondnum-firstnum\n",
    "    print(result) \n",
    "\n",
    "addnum(firstnum=10,secondnum=20)\n",
    "addnum(secondnum=10,firstnum=20)"
   ]
  },
  {
   "cell_type": "code",
   "execution_count": 26,
   "metadata": {},
   "outputs": [
    {
     "name": "stdout",
     "output_type": "stream",
     "text": [
      "-10\n"
     ]
    }
   ],
   "source": [
    "def addnum(ten,twenty=20): #order changing example\n",
    "    result=ten-secondnum\n",
    "    print(result) \n",
    "\n",
    "firstnum=10\n",
    "\n",
    "addnum(firstnum)"
   ]
  },
  {
   "cell_type": "code",
   "execution_count": 27,
   "metadata": {},
   "outputs": [
    {
     "ename": "SyntaxError",
     "evalue": "non-default argument follows default argument (<ipython-input-27-9a13f240ec9c>, line 1)",
     "output_type": "error",
     "traceback": [
      "\u001b[0;36m  File \u001b[0;32m\"<ipython-input-27-9a13f240ec9c>\"\u001b[0;36m, line \u001b[0;32m1\u001b[0m\n\u001b[0;31m    def coursedetail(inst,lang=\"python\",dur):\u001b[0m\n\u001b[0m                    ^\u001b[0m\n\u001b[0;31mSyntaxError\u001b[0m\u001b[0;31m:\u001b[0m non-default argument follows default argument\n"
     ]
    }
   ],
   "source": [
    "def coursedetail(inst,lang=\"python\",dur):\n",
    "    print(inst + \" \" + lang + \"\" + dur )\n",
    "\n",
    "inst=\"Saylani\"\n",
    " \n",
    "coursedetail(inst,dur=\"3 months\")"
   ]
  },
  {
   "cell_type": "code",
   "execution_count": 24,
   "metadata": {},
   "outputs": [
    {
     "name": "stdout",
     "output_type": "stream",
     "text": [
      "Saylani python 3 months\n"
     ]
    }
   ],
   "source": [
    "def coursedetail(inst,dur,lang=\"python\"):\n",
    "    print(inst + \" \" + lang + \" \" + dur )\n",
    "\n",
    "inst=\"Saylani\"\n",
    " \n",
    "coursedetail(inst,dur=\"3 months\")"
   ]
  },
  {
   "cell_type": "code",
   "execution_count": 22,
   "metadata": {
    "scrolled": true
   },
   "outputs": [
    {
     "name": "stdout",
     "output_type": "stream",
     "text": [
      "My name is Muhammad Adnan\n",
      "email:muhammad.adnan1990@gmail.com\n",
      "phone:********\n",
      "city:Islamabad\n"
     ]
    }
   ],
   "source": [
    "def personalinfo(name, fname, **params):\n",
    "    print(\"My name is \" + name + \" \" + fname )\n",
    "    for key ,value in params.items() :\n",
    "        print( key + \":\" + value)\n",
    "        \n",
    "personalinfo(\"Muhammad\",\"Adnan\",email=\"muhammad.adnan1990@gmail.com\",phone=\"********\",city=\"Islamabad\")"
   ]
  },
  {
   "cell_type": "code",
   "execution_count": 21,
   "metadata": {},
   "outputs": [
    {
     "name": "stdout",
     "output_type": "stream",
     "text": [
      "My name is Muhammad Adnan\n",
      "muhammad.adnan1990@gmail.com.com\n",
      "********\n",
      "Islamabad\n"
     ]
    }
   ],
   "source": [
    "def personalinfo(name, fname, *params):\n",
    "    print(\"My name is \" + name + \" \" + fname )\n",
    "    for param in params :\n",
    "        print(param)\n",
    "        \n",
    "personalinfo(\"Muhammad\",\"Adnan\",\"muhammad.adnan1990@gmail.com\",\"********\",\"Islamabad\")"
   ]
  },
  {
   "cell_type": "code",
   "execution_count": 19,
   "metadata": {},
   "outputs": [
    {
     "name": "stdout",
     "output_type": "stream",
     "text": [
      "30\n"
     ]
    },
    {
     "data": {
      "text/plain": [
       "30"
      ]
     },
     "execution_count": 19,
     "metadata": {},
     "output_type": "execute_result"
    }
   ],
   "source": [
    "def returnfunc(num1,num2):\n",
    "    \n",
    "    totalnum=num1+num2\n",
    "    print(totalnum)\n",
    "    \n",
    "    return totalnum\n",
    "\n",
    "returnfunc(10,20)\n"
   ]
  },
  {
   "cell_type": "code",
   "execution_count": 18,
   "metadata": {},
   "outputs": [
    {
     "name": "stdout",
     "output_type": "stream",
     "text": [
      "30\n",
      "70\n",
      "-40\n"
     ]
    }
   ],
   "source": [
    "def returnfunc1(num1,num2):\n",
    "    \n",
    "    totalnum=num1+num2\n",
    "    print(totalnum)\n",
    "    \n",
    "    return totalnum\n",
    "\n",
    "\n",
    "\n",
    "def returnfunc2(num1,num2):\n",
    "    \n",
    "    totalnum=num1+num2\n",
    "    print(totalnum)\n",
    "    \n",
    "    return totalnum\n",
    "\n",
    "\n",
    "\n",
    "result1=returnfunc1(10,20)\n",
    "result2=returnfunc1(30,40)\n",
    "\n",
    "finalresult=result1-result2\n",
    "print(finalresult)"
   ]
  },
  {
   "cell_type": "code",
   "execution_count": 83,
   "metadata": {},
   "outputs": [
    {
     "name": "stdout",
     "output_type": "stream",
     "text": [
      "3.0\n",
      "23.0\n"
     ]
    }
   ],
   "source": [
    "def cal_tax(sales, tax = 10):\n",
    "    complete = (sales * tax)/100\n",
    "    return complete\n",
    "\n",
    "sales = 30\n",
    "sales_tax = cal_tax(sales)\n",
    "print(sales_tax)\n",
    "GST_tax = 5\n",
    "direct_tax = 5\n",
    "in_direct_tax = 5\n",
    "income_tax = 5\n",
    "overall_tax = sales_tax + GST_tax + direct_tax + in_direct_tax + income_tax\n",
    "print(overall_tax)"
   ]
  },
  {
   "cell_type": "code",
   "execution_count": 17,
   "metadata": {},
   "outputs": [
    {
     "name": "stdout",
     "output_type": "stream",
     "text": [
      "Adnan\n"
     ]
    },
    {
     "ename": "NameError",
     "evalue": "name 'myname' is not defined",
     "output_type": "error",
     "traceback": [
      "\u001b[0;31m---------------------------------------------------------------------------\u001b[0m",
      "\u001b[0;31mNameError\u001b[0m                                 Traceback (most recent call last)",
      "\u001b[0;32m<ipython-input-17-c93da708bf8a>\u001b[0m in \u001b[0;36m<module>\u001b[0;34m\u001b[0m\n\u001b[1;32m      4\u001b[0m \u001b[0;34m\u001b[0m\u001b[0m\n\u001b[1;32m      5\u001b[0m \u001b[0mfunc_scope\u001b[0m\u001b[0;34m(\u001b[0m\u001b[0;34m)\u001b[0m\u001b[0;34m\u001b[0m\u001b[0;34m\u001b[0m\u001b[0m\n\u001b[0;32m----> 6\u001b[0;31m \u001b[0mprint\u001b[0m\u001b[0;34m(\u001b[0m\u001b[0mmyname\u001b[0m\u001b[0;34m)\u001b[0m\u001b[0;34m\u001b[0m\u001b[0;34m\u001b[0m\u001b[0m\n\u001b[0m\u001b[1;32m      7\u001b[0m \u001b[0;34m\u001b[0m\u001b[0m\n",
      "\u001b[0;31mNameError\u001b[0m: name 'myname' is not defined"
     ]
    }
   ],
   "source": [
    "def func_scope():\n",
    "    myname=\"Adnan\"\n",
    "    print(myname)\n",
    "\n",
    "func_scope()\n",
    "#print(myname)\n",
    "\n"
   ]
  },
  {
   "cell_type": "code",
   "execution_count": 11,
   "metadata": {},
   "outputs": [
    {
     "name": "stdout",
     "output_type": "stream",
     "text": [
      "what is your name?Adnan\n",
      "Adnan is enrolled in  Pyhthon Programming Saylani Mass Training  3 months\n"
     ]
    }
   ],
   "source": [
    "def courseinfo():\n",
    "    coursename=\"Pyhthon Programming\"\n",
    "    institute=\"Saylani Mass Training\"\n",
    "    duration=\"3 months\"\n",
    "    \n",
    "    return (coursename + \" \" + institute + \" \" + \" \" + duration )\n",
    "\n",
    "crincall=courseinfo()\n",
    "\n",
    "def myinfo():\n",
    "    name=input(\"what is your name?\")\n",
    "    result = name +\" \"+ \"is enrolled in \"+ \" \" + crincall \n",
    "    return result\n",
    "\n",
    "\n",
    "myincall=myinfo()\n",
    "\n",
    "print(myincall)"
   ]
  },
  {
   "cell_type": "code",
   "execution_count": 10,
   "metadata": {},
   "outputs": [
    {
     "name": "stdout",
     "output_type": "stream",
     "text": [
      "Enter a city, or q to quit:a\n",
      "Enter a city, or q to quit:City\n",
      "Enter a city, or q to quit:Adnan\n",
      "Enter a city, or q to quit:adnbabn\n",
      "Enter a city, or q to quit:q\n"
     ]
    }
   ],
   "source": [
    "user_input='n'\n",
    "while user_input != \"q\": \n",
    "    user_input = input(\"Enter a city, or q to quit:\")"
   ]
  },
  {
   "cell_type": "code",
   "execution_count": 9,
   "metadata": {},
   "outputs": [
    {
     "name": "stdout",
     "output_type": "stream",
     "text": [
      "9\n",
      "write any no?9\n"
     ]
    }
   ],
   "source": [
    "import random\n",
    "randno = random.randint(0, 10)\n",
    "print(randno)\n",
    "userIn = int(input(\"write any no?\"))\n",
    "\n",
    "count = 0\n",
    "while randno != userIn : \n",
    "    count += 1\n",
    "    if count < 5 :\n",
    "            userIn=int(input(\"Enter no again\"))\n",
    "    else :\n",
    "        print(\"try your luck next time\")\n",
    "        break\n",
    "    "
   ]
  },
  {
   "cell_type": "code",
   "execution_count": null,
   "metadata": {},
   "outputs": [],
   "source": []
  }
 ],
 "metadata": {
  "kernelspec": {
   "display_name": "Python 3",
   "language": "python",
   "name": "python3"
  },
  "language_info": {
   "codemirror_mode": {
    "name": "ipython",
    "version": 3
   },
   "file_extension": ".py",
   "mimetype": "text/x-python",
   "name": "python",
   "nbconvert_exporter": "python",
   "pygments_lexer": "ipython3",
   "version": "3.7.4"
  }
 },
 "nbformat": 4,
 "nbformat_minor": 2
}
