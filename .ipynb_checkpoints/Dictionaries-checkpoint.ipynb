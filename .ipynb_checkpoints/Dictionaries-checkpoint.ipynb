{
 "cells": [
  {
   "cell_type": "code",
   "execution_count": 1,
   "metadata": {},
   "outputs": [
    {
     "data": {
      "text/plain": [
       "{'ID': 50396, 'Name': 'Muhammad Adnan', 3: 'Serial Number'}"
      ]
     },
     "execution_count": 1,
     "metadata": {},
     "output_type": "execute_result"
    }
   ],
   "source": [
    "# Dictionaries\n",
    "\n",
    "# data is stored as key ,value pair\n",
    "# keys and values can be string, numeric or combination of both\n",
    "# The versatility of keys and values ==> keys and values can be any type (Mixed type)\n",
    "\n",
    "\n",
    "student = { \"ID\" : 50396, \"Name\":\"Muhammad Adnan\", 3 : \"Serial Number\"}\n",
    "student"
   ]
  },
  {
   "cell_type": "code",
   "execution_count": 4,
   "metadata": {},
   "outputs": [
    {
     "data": {
      "text/plain": [
       "'Muhammad Adnan'"
      ]
     },
     "execution_count": 4,
     "metadata": {},
     "output_type": "execute_result"
    }
   ],
   "source": [
    "# How to pick information out of them\n",
    "\n",
    "student[\"Name\"] # get value by key"
   ]
  },
  {
   "cell_type": "code",
   "execution_count": 2,
   "metadata": {},
   "outputs": [
    {
     "data": {
      "text/plain": [
       "{'ID': 'PIAIC50394',\n",
       " 'Name': 'Muhammad Adnan',\n",
       " 3: 'Serial Number',\n",
       " 'RollNumber': 1234,\n",
       " 'city': 'Islamabad'}"
      ]
     },
     "execution_count": 2,
     "metadata": {},
     "output_type": "execute_result"
    }
   ],
   "source": [
    "# Dictionaries: Adding items or updating\n",
    "\n",
    "student[\"ID\"] = \"PIAIC50394\" # Updating already existing key\n",
    "student[\"RollNumber\"] = 1234 # Adding new item\n",
    "student[\"city\"] = \"Islamabad\"\n",
    "student\n"
   ]
  },
  {
   "cell_type": "code",
   "execution_count": 3,
   "metadata": {},
   "outputs": [
    {
     "data": {
      "text/plain": [
       "{'Name': 'Muhammad Adnan',\n",
       " 3: 'Serial Number',\n",
       " 'RollNumber': 1234,\n",
       " 'city': 'Islamabad'}"
      ]
     },
     "execution_count": 3,
     "metadata": {},
     "output_type": "execute_result"
    }
   ],
   "source": [
    "# Removing and changing items\n",
    "\n",
    "# del student for deleting complete dictionary\n",
    "\n",
    "del student[\"ID\"] # Removing one item\n",
    "student"
   ]
  },
  {
   "cell_type": "code",
   "execution_count": 4,
   "metadata": {},
   "outputs": [
    {
     "name": "stdout",
     "output_type": "stream",
     "text": [
      "Muhammad Adnan\n",
      "Serial Number\n",
      "1234\n",
      "Islamabad\n"
     ]
    }
   ],
   "source": [
    "# looping through all values in a dictionary\n",
    "\n",
    "for val in student.values():\n",
    "    print(val)"
   ]
  },
  {
   "cell_type": "code",
   "execution_count": 5,
   "metadata": {},
   "outputs": [
    {
     "name": "stdout",
     "output_type": "stream",
     "text": [
      "Name\n",
      "3\n",
      "RollNumber\n",
      "city\n"
     ]
    }
   ],
   "source": [
    "# looping through all keys in a dictionary\n",
    "\n",
    "for key in student.keys():\n",
    "    print(key)"
   ]
  },
  {
   "cell_type": "code",
   "execution_count": 7,
   "metadata": {},
   "outputs": [
    {
     "name": "stdout",
     "output_type": "stream",
     "text": [
      "The Student's {} is {} Name Muhammad Adnan\n",
      "The Student's {} is {} 3 Serial Number\n",
      "The Student's {} is {} RollNumber 1234\n",
      "The Student's {} is {} city Islamabad\n"
     ]
    }
   ],
   "source": [
    "# looping through all values and values in a dictionary\n",
    "\n",
    "for k,val in student.items():\n",
    "    print(\"The Student's {} is {}\".format(k,val))\n",
    "    #print(\"The student's \" + str(k) + \" is \" + str(val))"
   ]
  },
  {
   "cell_type": "code",
   "execution_count": 34,
   "metadata": {},
   "outputs": [
    {
     "data": {
      "text/plain": [
       "[{'ID': 1, 'Name': 'Adnan'},\n",
       " {'ID': 2, 'Name': 'Zeeshan'},\n",
       " {'ID': 3, 'Name': 'Kamran'},\n",
       " {'ID': 4, 'Name': 'Irfan'}]"
      ]
     },
     "execution_count": 34,
     "metadata": {},
     "output_type": "execute_result"
    }
   ],
   "source": [
    "# Array of dictionaries\n",
    "\n",
    "array = [\n",
    "    { \"ID\":1,\"Name\":\"Adnan\"},\n",
    "    {\"ID\":2,\"Name\":\"Zeeshan\"}\n",
    "]\n",
    "\n",
    "\n",
    "array.append({\n",
    "    \"ID\":3,\n",
    "    \"Name\":\"Kamran\"\n",
    "})\n",
    "\n",
    "array.append({\n",
    "    \"ID\":4,\n",
    "    \"Name\":\"Irfan\"\n",
    "})\n",
    "\n",
    "array"
   ]
  },
  {
   "cell_type": "code",
   "execution_count": 35,
   "metadata": {},
   "outputs": [
    {
     "data": {
      "text/plain": [
       "['standard', 'volume', 'loyalty']"
      ]
     },
     "execution_count": 35,
     "metadata": {},
     "output_type": "execute_result"
    }
   ],
   "source": [
    "# dictioynar having list or array \n",
    "\n",
    "customer = {\n",
    "    \"first name\": \"David\",\n",
    "    \"last name\": \"Elliott\",\n",
    "    \"address\": \"4803 Wellesley St.\",\n",
    "    \"discounts\": [\"standard\", \"volume\", \"loyalty\"]\n",
    "}\n",
    "\n",
    "customer[\"discounts\"]\n"
   ]
  },
  {
   "cell_type": "code",
   "execution_count": 43,
   "metadata": {},
   "outputs": [
    {
     "data": {
      "text/plain": [
       "{0: {'first name': 'Adnan',\n",
       "  'last name': 'Rao',\n",
       "  'address': 'Islamabad Pakistan'},\n",
       " 1: {'first name': 'Zeeshan',\n",
       "  'last name': 'Rao',\n",
       "  'address': 'Rawalpindi Pakistan'},\n",
       " 2: {'first name': 'Kamran', 'last name': 'Rao', 'address': 'Multan Pakistan'}}"
      ]
     },
     "execution_count": 43,
     "metadata": {},
     "output_type": "execute_result"
    }
   ],
   "source": [
    "# Creating dictionary which contains dictionaris \n",
    "\n",
    "dictionary_of_dictionaries = { \n",
    "     0:{\n",
    "        \"first name\":\"Adnan\",\n",
    "        \"last name\": \"Rao\",\n",
    "        \"address\": \"Islamabad Pakistan\"\n",
    "    },\n",
    "    1:{\n",
    "       \"first name\":\"Zeeshan\",\n",
    "        \"last name\": \"Rao\",\n",
    "        \"address\": \"Rawalpindi Pakistan\",  \n",
    "    },\n",
    "    2:{\n",
    "         \"first name\":\"Kamran\",\n",
    "        \"last name\": \"Rao\",\n",
    "        \"address\": \"Multan Pakistan\",\n",
    "    }\n",
    " }\n",
    "\n",
    "dictionary_of_dictionaries"
   ]
  },
  {
   "cell_type": "code",
   "execution_count": 44,
   "metadata": {},
   "outputs": [
    {
     "data": {
      "text/plain": [
       "{'first name': 'Kamran', 'last name': 'Rao', 'address': 'Multan Pakistan'}"
      ]
     },
     "execution_count": 44,
     "metadata": {},
     "output_type": "execute_result"
    }
   ],
   "source": [
    "# Retrieving information from dictionary of dictionaries\n",
    "dictionary_of_dictionaries[2]"
   ]
  },
  {
   "cell_type": "code",
   "execution_count": null,
   "metadata": {},
   "outputs": [],
   "source": []
  }
 ],
 "metadata": {
  "kernelspec": {
   "display_name": "Python 3",
   "language": "python",
   "name": "python3"
  },
  "language_info": {
   "codemirror_mode": {
    "name": "ipython",
    "version": 3
   },
   "file_extension": ".py",
   "mimetype": "text/x-python",
   "name": "python",
   "nbconvert_exporter": "python",
   "pygments_lexer": "ipython3",
   "version": "3.7.4"
  }
 },
 "nbformat": 4,
 "nbformat_minor": 2
}
