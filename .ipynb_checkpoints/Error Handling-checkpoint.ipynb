{
 "cells": [
  {
   "cell_type": "code",
   "execution_count": 1,
   "metadata": {},
   "outputs": [
    {
     "name": "stdout",
     "output_type": "stream",
     "text": [
      "Division cannot be performed\n"
     ]
    }
   ],
   "source": [
    "# using try and except block to avoid possible exceptions\n",
    "firstnumber  = 5\n",
    "secondnumber = 0 # 0 for exception as number/0 is undefined \n",
    "\n",
    "try:\n",
    "    answer = firstnumber/secondnumber\n",
    "    \n",
    "except: #except or give except some name i.e except DivideByZeroException \n",
    "    print(\"Division cannot be performed\")\n",
    "    \n",
    "else:\n",
    "    print(answer)"
   ]
  },
  {
   "cell_type": "code",
   "execution_count": 6,
   "metadata": {},
   "outputs": [
    {
     "name": "stdout",
     "output_type": "stream",
     "text": [
      "2.0\n"
     ]
    }
   ],
   "source": [
    "# using try and except block to avoid possible exceptions\n",
    "firstnumber  = 10\n",
    "secondnumber = 5\n",
    "\n",
    "try:\n",
    "    answer = firstnumber/secondnumber\n",
    "    \n",
    "except DivideByZeroException: #except or give except some name i.e except DivideByZeroException \n",
    "    print(\"Division cannot be performed\")\n",
    "    \n",
    "else:\n",
    "    print(answer)"
   ]
  },
  {
   "cell_type": "code",
   "execution_count": null,
   "metadata": {},
   "outputs": [],
   "source": []
  }
 ],
 "metadata": {
  "kernelspec": {
   "display_name": "Python 3",
   "language": "python",
   "name": "python3"
  },
  "language_info": {
   "codemirror_mode": {
    "name": "ipython",
    "version": 3
   },
   "file_extension": ".py",
   "mimetype": "text/x-python",
   "name": "python",
   "nbconvert_exporter": "python",
   "pygments_lexer": "ipython3",
   "version": "3.7.4"
  }
 },
 "nbformat": 4,
 "nbformat_minor": 2
}
