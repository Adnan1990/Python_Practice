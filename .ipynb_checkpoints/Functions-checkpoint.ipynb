{
 "cells": [
  {
   "cell_type": "code",
   "execution_count": 9,
   "metadata": {},
   "outputs": [
    {
     "name": "stdout",
     "output_type": "stream",
     "text": [
      "14\n",
      "\n",
      "\n",
      "Hello\n",
      "Dear\n",
      "Python Learners\n",
      "\n",
      "Hello  Adnan\n"
     ]
    }
   ],
   "source": [
    "'''\n",
    "Function is a block of Python code that robotically does the same thing again and again,\n",
    "whenever you invoke its name. It saves you repetitive coding and makes your code easier to understand.\n",
    "\n",
    "'''\n",
    "\n",
    "# defining function\n",
    "\n",
    "def print_info():\n",
    "    print(\"Hello\")\n",
    "    print(\"Dear\")\n",
    "    print(\"Python Learners\")\n",
    "    \n",
    "def add(a,b):\n",
    "    result = a +b\n",
    "    return result\n",
    "\n",
    "def greet_user(user):\n",
    "    print(\"Hello \",user)\n",
    "\n",
    "# function calling\n",
    "print(add(5,9))\n",
    "\n",
    "print(\"\\n\") # printing new line to maintain gap between output/print\n",
    "print_info()\n",
    "\n",
    "print(\"\") # Adding space\n",
    "\n",
    "greet_user(\"Adnan\")"
   ]
  },
  {
   "cell_type": "code",
   "execution_count": 10,
   "metadata": {},
   "outputs": [
    {
     "name": "stdout",
     "output_type": "stream",
     "text": [
      "The names of the couple are Bill and Zelda\n",
      "The names of the couple are Bill and Zelda\n",
      "The names of the couple are Adnan and Noor\n"
     ]
    }
   ],
   "source": [
    "def say_names_of_couple(husband_name, wife_name):\n",
    "    print(\"The names of the couple are \" + husband_name + \" and \" + wife_name)\n",
    "\n",
    "# calling function with argument names has no impact on ordering\n",
    "\n",
    "say_names_of_couple(husband_name=\"Bill\", wife_name=\"Zelda\")\n",
    "say_names_of_couple(wife_name=\"Zelda\", husband_name=\"Bill\")\n",
    "\n",
    "\n",
    "# calling function with static values has impact on ordering\n",
    "say_names_of_couple(\"Adnan\", \"Noor\")\n",
    "\n"
   ]
  },
  {
   "cell_type": "code",
   "execution_count": 3,
   "metadata": {},
   "outputs": [
    {
     "name": "stdout",
     "output_type": "stream",
     "text": [
      "60.0\n",
      "4.8\n",
      "6.0\n"
     ]
    }
   ],
   "source": [
    "# Functions: Assigning a default value to a parameter\n",
    "\n",
    "# Note: Only keyword parameters can have a default value. Positional parameters can't.\n",
    "\n",
    "def calc_tax(sales_total=1500, tax_rate=.04):\n",
    "    print(sales_total * tax_rate)\n",
    "    \n",
    "\n",
    "\"\"\"\n",
    "Note: Keyword parameters without defaults must come before keyword parameters with defaults.\n",
    "In the following code, tax_rate=.04 must come after sales_total.\n",
    "\n",
    "def calc_tax(sales_total, tax_rate=.04):\n",
    "\n",
    "\"\"\"\n",
    "\n",
    "\"\"\"\n",
    "Positional arguments and parameters always come first,\n",
    "keyword parameters without defaults always come second,\n",
    "and keyword parameters with defaults always come last.\n",
    "\"\"\"\n",
    "\n",
    "# now you can skip default value parameter\n",
    "\n",
    "calc_tax()\n",
    "calc_tax(sales_total=120)\n",
    "calc_tax(sales_total=120, tax_rate=.05)\n",
    "\n"
   ]
  },
  {
   "cell_type": "markdown",
   "metadata": {},
   "source": [
    "## Dealing with funtions with unknown number of arguments "
   ]
  },
  {
   "cell_type": "code",
   "execution_count": 15,
   "metadata": {},
   "outputs": [
    {
     "name": "stdout",
     "output_type": "stream",
     "text": [
      "*** We are in display_result_as_dictionary_params() ***\n",
      "\n",
      "The winner was Adnan\n",
      "The score was 95\n",
      "email: muhammad.adnan1990@gmail.com\n",
      "phone: 03027885074\n",
      "city: Islamabad\n",
      "\n",
      "print_tuple_params() \n",
      "\n",
      "The winner was Adnan\n",
      "The score was 1800\n",
      "('muhammad.adnan1990@gmail.com', '03027885074', 'Islamabad')\n"
     ]
    }
   ],
   "source": [
    "# unknown param must be last parameter of function\n",
    "# unknon parameter passed as key,value pair or dictionry should have prefix '**' \n",
    "# unknon parameter passed wihtout dictionary or key values  should have prefix '*'\n",
    "\n",
    "# ** returns unknows parameter values as dictionary object\n",
    "# * returns unknows parameter values as tuple object\n",
    "\n",
    "def print_dictionary_params(winner, score, **dictionary_data):\n",
    "    print('print_dictionary_params()\\n')\n",
    "    print(\"The winner was \" + winner)\n",
    "    print(\"The score was \" + score)\n",
    "    for key,value in dictionary_data.items():\n",
    "        print(key + \": \" + value)\n",
    "        \n",
    "        \n",
    "def print_tuple_params(winner, score, *tuple_data):\n",
    "    print('\\nprint_tuple_params() \\n')\n",
    "    print(\"The winner was \" + winner)\n",
    "    print(\"The score was \" + score)\n",
    "    print(tuple_data)\n",
    "\n",
    "\n",
    "print_dictionary_params(\"Adnan\",\"95\",\n",
    "                                    email=\"muhammad.adnan1990@gmail.com\",\n",
    "                                    phone=\"03027885074\",\n",
    "                                    city=\"Islamabad\")\n",
    "\n",
    "\n",
    "print_tuple_params(\"Adnan\",\"1800\",\"muhammad.adnan1990@gmail.com\",\"03027885074\",\"Islamabad\")\n",
    "\n",
    "\n",
    "    "
   ]
  },
  {
   "cell_type": "code",
   "execution_count": null,
   "metadata": {},
   "outputs": [],
   "source": []
  }
 ],
 "metadata": {
  "kernelspec": {
   "display_name": "Python 3",
   "language": "python",
   "name": "python3"
  },
  "language_info": {
   "codemirror_mode": {
    "name": "ipython",
    "version": 3
   },
   "file_extension": ".py",
   "mimetype": "text/x-python",
   "name": "python",
   "nbconvert_exporter": "python",
   "pygments_lexer": "ipython3",
   "version": "3.7.4"
  }
 },
 "nbformat": 4,
 "nbformat_minor": 2
}
