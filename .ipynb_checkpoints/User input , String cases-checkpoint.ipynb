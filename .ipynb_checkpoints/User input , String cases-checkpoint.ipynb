{
 "cells": [
  {
   "cell_type": "code",
   "execution_count": 1,
   "metadata": {},
   "outputs": [
    {
     "name": "stdout",
     "output_type": "stream",
     "text": [
      "Please enter your name : adnan\n"
     ]
    },
    {
     "data": {
      "text/plain": [
       "'adnan'"
      ]
     },
     "execution_count": 1,
     "metadata": {},
     "output_type": "execute_result"
    }
   ],
   "source": [
    "# input function is used to get input from user\n",
    "# input by default is string type\n",
    "\n",
    "name = input(\"Please enter your name : \")\n",
    "#input will be assigned to name variable\n",
    "name"
   ]
  },
  {
   "cell_type": "code",
   "execution_count": 2,
   "metadata": {},
   "outputs": [
    {
     "name": "stdout",
     "output_type": "stream",
     "text": [
      "Enter your monthly income: 250000\n",
      "Monthly income in int  250000\n",
      "Monthly income in float  250000.0\n",
      "Monthly income in string again  250000\n"
     ]
    }
   ],
   "source": [
    "# Parse or convert user input into int value\n",
    "monthly_income = int(input(\"Enter your monthly income: \"))\n",
    "\n",
    "print(\"Monthly income in int \",monthly_income)\n",
    "print(\"Monthly income in float \",float(monthly_income))\n",
    "print(\"Monthly income in string again \",str(monthly_income)) # str() to convert into string"
   ]
  },
  {
   "cell_type": "code",
   "execution_count": 3,
   "metadata": {},
   "outputs": [
    {
     "name": "stdout",
     "output_type": "stream",
     "text": [
      "Muhammad ADNan rAO\n",
      "MUHAMMAD ADNAN RAO\n",
      "muhammad adnan rao\n",
      "Muhammad Adnan Rao\n"
     ]
    }
   ],
   "source": [
    "# String Cases\n",
    "# Converting into lowercase,uppercase, capitalized or title case\n",
    "\n",
    "name = \"Muhammad ADNan rAO\"\n",
    "print(name)\n",
    "print(name.upper()) # Convert all characters in UPPER aBc ==> ABC\n",
    "print(name.lower()) # Convert all characters in lower AbC ==> abc\n",
    "# title() Convert all words's First character as capital and rest of the characters as lowe  ABC deF ==> Abc Def\n",
    "print(name.title())\n"
   ]
  }
 ],
 "metadata": {
  "kernelspec": {
   "display_name": "Python 3",
   "language": "python",
   "name": "python3"
  },
  "language_info": {
   "codemirror_mode": {
    "name": "ipython",
    "version": 3
   },
   "file_extension": ".py",
   "mimetype": "text/x-python",
   "name": "python",
   "nbconvert_exporter": "python",
   "pygments_lexer": "ipython3",
   "version": "3.7.4"
  }
 },
 "nbformat": 4,
 "nbformat_minor": 2
}
