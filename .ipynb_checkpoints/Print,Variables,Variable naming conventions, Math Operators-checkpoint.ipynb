{
 "cells": [
  {
   "cell_type": "code",
   "execution_count": 1,
   "metadata": {},
   "outputs": [
    {
     "name": "stdout",
     "output_type": "stream",
     "text": [
      "Hello, World!\n"
     ]
    }
   ],
   "source": [
    "print(\"Hello, World!\")"
   ]
  },
  {
   "cell_type": "code",
   "execution_count": 29,
   "metadata": {},
   "outputs": [
    {
     "name": "stdout",
     "output_type": "stream",
     "text": [
      "Muhammad Adnan\n"
     ]
    }
   ],
   "source": [
    "first_name = \"Muhammad\"\n",
    "last_name = \" Adnan\"\n",
    "\n",
    "name = first_name + last_name  # String concatination\n",
    "print(name)"
   ]
  },
  {
   "cell_type": "code",
   "execution_count": 27,
   "metadata": {},
   "outputs": [
    {
     "name": "stdout",
     "output_type": "stream",
     "text": [
      "9\n",
      "-1\n",
      "20\n",
      "1024\n",
      "0.8\n",
      "0\n",
      "1\n",
      "10\n",
      "10.0\n",
      "12.5\n",
      "Adnan Adnan Adnan \n"
     ]
    }
   ],
   "source": [
    "num1 = 4\n",
    "num2 = 5 \n",
    "\n",
    "print (num1+num2) #Addition\n",
    "print (num1-num2) #Subtraction\n",
    "print (num1*num2) #Multiplication\n",
    "print (num1**num2) #Power\n",
    "print (num1/num2)  #Division with franctional result\n",
    "print (num1//num2) #Division with int results\n",
    "print (num2%num1)  # Mode operator\n",
    "print (num2+5) #Int + Int = Int\n",
    "print (num2+5.0) #Int + Float = Float\n",
    "print (num2*2.5) #Int * Float = Float\n",
    "\n",
    "string = \"Adnan \"\n",
    "print(string*3) #Multiplication is possible with strings (x*string means writing that text for x timnes)\n",
    "\n",
    "# addision of string and numbers is invalid operation. \n",
    "# You need to convert string into number or number into string for this"
   ]
  },
  {
   "cell_type": "code",
   "execution_count": null,
   "metadata": {},
   "outputs": [],
   "source": [
    "# Swaping is super easy in python\n",
    "\n",
    "x =5\n",
    "y = 6\n",
    "x,y = y,x\n",
    "\n",
    "print(x)\n",
    "print(y)"
   ]
  },
  {
   "cell_type": "code",
   "execution_count": 2,
   "metadata": {},
   "outputs": [
    {
     "name": "stdout",
     "output_type": "stream",
     "text": [
      "123\n"
     ]
    }
   ],
   "source": [
    "# Variable names cannot contain space.\n",
    "# Variable names cannot be number.\n",
    "# Variable names cannot start with number.\n",
    "# Variable names cannot start with operators.\n",
    "# Variable names can't be any of Python's reserved words \n",
    "# Variable name can contain only lowercase letters, uppercase letters, numbers, and underscores.\n",
    "\n",
    "'''\n",
    "I\n",
    "AM\n",
    "MULTILINE\n",
    "COMMENT\n",
    "'''\n",
    "\n",
    "\"\"\"\n",
    "I\n",
    "AM\n",
    "MULTILINE\n",
    "COMMENT\n",
    "\"\"\"\n",
    "\n",
    "abc_ = 123\n",
    "print(abc_)\n"
   ]
  },
  {
   "cell_type": "code",
   "execution_count": 8,
   "metadata": {},
   "outputs": [
    {
     "name": "stdout",
     "output_type": "stream",
     "text": [
      "Congratulations\n"
     ]
    }
   ],
   "source": [
    "your_ticket_number = 50394\n",
    "\n",
    "if your_ticket_number != 50394:\n",
    "    print(\"Better luck next time.\")\n",
    "elif your_ticket_number == 50394:\n",
    "    print(\"Congratulations\")"
   ]
  }
 ],
 "metadata": {
  "kernelspec": {
   "display_name": "Python 3",
   "language": "python",
   "name": "python3"
  },
  "language_info": {
   "codemirror_mode": {
    "name": "ipython",
    "version": 3
   },
   "file_extension": ".py",
   "mimetype": "text/x-python",
   "name": "python",
   "nbconvert_exporter": "python",
   "pygments_lexer": "ipython3",
   "version": "3.7.4"
  }
 },
 "nbformat": 4,
 "nbformat_minor": 2
}
