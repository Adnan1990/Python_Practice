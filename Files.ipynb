{
 "cells": [
  {
   "cell_type": "code",
   "execution_count": 6,
   "metadata": {},
   "outputs": [
    {
     "name": "stdout",
     "output_type": "stream",
     "text": [
      "Muhammad\n",
      "Adnan\n",
      "Rao\n",
      "muhammad.adnan1990@gmail.com\n",
      "\n",
      "03027885074\n"
     ]
    }
   ],
   "source": [
    "with open('untitled.txt') as practicefile:\n",
    "    content = practicefile.read()\n",
    "#    print(content)  # prints content including whitespcaes\n",
    "    print(content.strip()) # strip() remove whitespaces from start and end of file\n",
    "#    print(content.rstrip()) # rstrip() remove whitespaces from end of file\n",
    "#    print(content.lstrip()) # lstrip() remove whitespaces from start of file "
   ]
  },
  {
   "cell_type": "code",
   "execution_count": 7,
   "metadata": {},
   "outputs": [
    {
     "name": "stdout",
     "output_type": "stream",
     "text": [
      "Python\n",
      "learning\n",
      "Batch2\n",
      "\n",
      "\n",
      "kamran\n",
      "irfan\n",
      "Adnan\n",
      "zeeshan\n"
     ]
    }
   ],
   "source": [
    "filePath = 'Untitled Folder/untitled2.txt'\n",
    "with open(filePath) as practicefile:\n",
    "    content = practicefile.read()\n",
    "    print(content)"
   ]
  },
  {
   "cell_type": "code",
   "execution_count": 15,
   "metadata": {},
   "outputs": [
    {
     "name": "stdout",
     "output_type": "stream",
     "text": [
      "000\n",
      "111\n"
     ]
    }
   ],
   "source": [
    "filePath = 'untitled.txt'\n",
    "with open(filePath) as practicefile:\n",
    "    content = practicefile.readlines() # readlines will return lines of file contents including data\n",
    "    \n",
    "for line in content:\n",
    "    print(line.strip()) #strip() for removing whitespace from start and end of file"
   ]
  },
  {
   "cell_type": "code",
   "execution_count": 34,
   "metadata": {},
   "outputs": [
    {
     "name": "stdout",
     "output_type": "stream",
     "text": [
      "000111Muhammad AdnanEnd of file\n"
     ]
    }
   ],
   "source": [
    "# How to read file data in single line instead of reading file content line by line on separate lines\n",
    "filePath = 'untitled.txt'\n",
    "with open(filePath) as practicefile:\n",
    "    content = practicefile.readlines() # readlines will return lines of file contents including data\n",
    "    \n",
    "oneline = \"\"\n",
    "for line in content:\n",
    "    oneline+=line.rstrip()  #concat line content in oneline string variable, remove whitespace from contact\n",
    "    \n",
    "print(oneline)"
   ]
  },
  {
   "cell_type": "code",
   "execution_count": 35,
   "metadata": {},
   "outputs": [
    {
     "name": "stdout",
     "output_type": "stream",
     "text": [
      "000111Mu\n",
      "hammad AdnanEnd of file\n"
     ]
    }
   ],
   "source": [
    "# Slicing\n",
    "filePath = 'untitled.txt'\n",
    "with open(filePath) as practicefile:\n",
    "    content = practicefile.readlines() # readlines will return lines of file contents including data\n",
    "    \n",
    "oneline = \"\"\n",
    "for line in content:\n",
    "    oneline+=line.rstrip()  #concat line content in oneline string variable, remove whitespace from contact\n",
    "    \n",
    "print(oneline[:8]) # slice oneline from begining till 8th character (7th index)\n",
    "print(oneline[8:]) # slice oneline from 8th character till end"
   ]
  },
  {
   "cell_type": "code",
   "execution_count": 27,
   "metadata": {},
   "outputs": [],
   "source": [
    "# writing in file overwriting (removing) previous content\n",
    "filePath = 'untitled.txt'\n",
    "with open(filePath,\"w\") as practicefile:\n",
    "    practicefile.write(\"000\\n\") # write() will write content in file write() will overwrite previous content\n",
    "    practicefile.write(\"111\") # write() will write content in file \n",
    "    practicefile.write(\"\\nMuhammad Adnan\")"
   ]
  },
  {
   "cell_type": "code",
   "execution_count": 28,
   "metadata": {},
   "outputs": [],
   "source": [
    "# writing in file by appending new contetn at end of the file content\n",
    "filePath = 'untitled.txt'\n",
    "with open(filePath,\"a\") as practicefile:\n",
    "    practicefile.write(\"End of file\") # write() will write content in file write() will overwrite previous content"
   ]
  },
  {
   "cell_type": "code",
   "execution_count": 38,
   "metadata": {},
   "outputs": [
    {
     "name": "stdout",
     "output_type": "stream",
     "text": [
      "000\n",
      "111\n",
      "Muhammad AdnanEnd of file\n"
     ]
    }
   ],
   "source": [
    "filePath = 'untitled.txt'\n",
    "with open(filePath,\"r\") as practiceFile:\n",
    "    content = practiceFile.read()\n",
    "    print(content.strip())"
   ]
  },
  {
   "cell_type": "code",
   "execution_count": 37,
   "metadata": {},
   "outputs": [
    {
     "name": "stdout",
     "output_type": "stream",
     "text": [
      "Division cannot be performed\n"
     ]
    }
   ],
   "source": [
    "# using try and except block to avoid possible exceptions\n",
    "firstnumber  = 5\n",
    "secondnumber = 0 # 0 for exception as number/0 is undefined \n",
    "\n",
    "try:\n",
    "    answer = firstnumber/secondnumber\n",
    "    \n",
    "except: #except or give except some name i.e except DivideByZeroException \n",
    "    print(\"Division cannot be performed\")\n",
    "    \n",
    "else:\n",
    "    print(answer)"
   ]
  },
  {
   "cell_type": "code",
   "execution_count": 40,
   "metadata": {},
   "outputs": [
    {
     "name": "stdout",
     "output_type": "stream",
     "text": [
      "['Name', 'Roll Number', 'Class']\n",
      "['Muhammad Adnan', 'PIAIC50394', 'IOT']\n",
      "['Muhammad Zeeshan', 'PIAIC50395', 'AI']\n",
      "['Muhammad Irfan', 'PIAIC50396', 'CNC']\n",
      "<_csv.reader object at 0x111b38a50>\n"
     ]
    }
   ],
   "source": [
    "#Reading CSV file\n",
    "import csv\n",
    "\n",
    "filePath = 'data.csv'\n",
    "\n",
    "try:\n",
    "    with open(filePath) as practicefile:\n",
    "        content = csv.reader(practicefile)\n",
    "        for line in content:\n",
    "            print(line)\n",
    "except FileNotFoundError:\n",
    "    print(\"File not found at specified path\")\n",
    "else:\n",
    "     print(content) \n",
    "\n",
    "    \n"
   ]
  },
  {
   "cell_type": "code",
   "execution_count": 31,
   "metadata": {},
   "outputs": [
    {
     "name": "stdout",
     "output_type": "stream",
     "text": [
      "Requirement already satisfied: numpy in /Users/adnan/anaconda3/lib/python3.7/site-packages (1.17.2)\r\n"
     ]
    }
   ],
   "source": [
    "import sys\n",
    "!{sys.executable} -m pip install numpy"
   ]
  },
  {
   "cell_type": "code",
   "execution_count": 32,
   "metadata": {},
   "outputs": [
    {
     "name": "stdout",
     "output_type": "stream",
     "text": [
      "Requirement already satisfied: import_ipynb in /Users/adnan/anaconda3/lib/python3.7/site-packages (0.1.3)\n",
      "Note: you may need to restart the kernel to use updated packages.\n"
     ]
    }
   ],
   "source": [
    "pip install import_ipynb"
   ]
  },
  {
   "cell_type": "code",
   "execution_count": null,
   "metadata": {},
   "outputs": [],
   "source": []
  }
 ],
 "metadata": {
  "kernelspec": {
   "display_name": "Python 3",
   "language": "python",
   "name": "python3"
  },
  "language_info": {
   "codemirror_mode": {
    "name": "ipython",
    "version": 3
   },
   "file_extension": ".py",
   "mimetype": "text/x-python",
   "name": "python",
   "nbconvert_exporter": "python",
   "pygments_lexer": "ipython3",
   "version": "3.7.4"
  }
 },
 "nbformat": 4,
 "nbformat_minor": 2
}
