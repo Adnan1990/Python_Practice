{
 "cells": [
  {
   "cell_type": "code",
   "execution_count": 12,
   "metadata": {},
   "outputs": [
    {
     "name": "stdout",
     "output_type": "stream",
     "text": [
      "[[ 1.23906297 -1.44138457  0.68554891]\n",
      " [-0.52361926 -1.23510735  1.29778584]] \n",
      "\n",
      "[[ 2.47812594 -2.88276913  1.37109783]\n",
      " [-1.04723853 -2.4702147   2.59557169]] \n",
      "\n",
      "[[ 12.39062971 -14.41384567   6.85548914]\n",
      " [ -5.23619264 -12.35107348  12.97785845]] \n",
      "\n",
      "(2, 3) \n",
      "\n",
      "float64 \n",
      "\n",
      "2 \n",
      "\n"
     ]
    }
   ],
   "source": [
    "#Numpy start\n",
    "\n",
    "import numpy as np\n",
    "data = np.random.randn(2, 3)\n",
    "print(data ,'\\n') \n",
    "print(data+data , '\\n') \n",
    "print(data * 10 , '\\n')\n",
    "print(data.shape, '\\n')\n",
    "print(data.dtype , '\\n')\n",
    "print(data.ndim, '\\n')\n"
   ]
  },
  {
   "cell_type": "code",
   "execution_count": 20,
   "metadata": {},
   "outputs": [
    {
     "name": "stdout",
     "output_type": "stream",
     "text": [
      "[0. 0. 0. 0. 0. 0. 0. 0. 0. 0.] \n",
      "\n",
      "[[0. 0. 0. 0. 0. 0.]\n",
      " [0. 0. 0. 0. 0. 0.]\n",
      " [0. 0. 0. 0. 0. 0.]] \n",
      "\n",
      "[[[0. 0. 0. 0. 0. 0.]\n",
      "  [0. 0. 0. 0. 0. 0.]\n",
      "  [0. 0. 0. 0. 0. 0.]]\n",
      "\n",
      " [[0. 0. 0. 0. 0. 0.]\n",
      "  [0. 0. 0. 0. 0. 0.]\n",
      "  [0. 0. 0. 0. 0. 0.]]] \n",
      "\n",
      "[0. 0. 0. 0. 0.] \n",
      "\n",
      "[[0. 0. 0. 0. 0. 0.]\n",
      " [0. 0. 0. 0. 0. 0.]\n",
      " [0. 0. 0. 0. 0. 0.]] \n",
      "\n"
     ]
    }
   ],
   "source": [
    "#zero and empty\n",
    "\n",
    "print(np.zeros(10) , \"\\n\")\n",
    "\n",
    "print(np.zeros((3,6)), \"\\n\")\n",
    "\n",
    "print(np.zeros((2,3,6)), \"\\n\")\n",
    "\n",
    "\n",
    "print(np.empty(5) , \"\\n\") #garbage values can be assigned while using empty\n",
    "\n",
    "print(np.empty((3,6)) , \"\\n\")"
   ]
  },
  {
   "cell_type": "code",
   "execution_count": 31,
   "metadata": {},
   "outputs": [
    {
     "name": "stdout",
     "output_type": "stream",
     "text": [
      "[0 1 2 3 4 5 6 7 8] \n",
      "\n",
      "[[ 0  1  2]\n",
      " [ 3  4  5]\n",
      " [ 6  7  8]\n",
      " [ 9 10 11]\n",
      " [12 13 14]\n",
      " [15 16 17]] \n",
      "\n",
      "[[ 0  1  2  3  4  5]\n",
      " [ 6  7  8  9 10 11]\n",
      " [12 13 14 15 16 17]] \n",
      "\n"
     ]
    }
   ],
   "source": [
    "#arrange - like range in normal python\n",
    "\n",
    "print(np.arange(9), \"\\n\")\n",
    "print(np.arange(18).reshape(6,3),\"\\n\")\n",
    "print(np.arange(18).reshape(3,6),\"\\n\")\n"
   ]
  },
  {
   "cell_type": "code",
   "execution_count": 40,
   "metadata": {},
   "outputs": [
    {
     "name": "stdout",
     "output_type": "stream",
     "text": [
      "[1. 2. 3. 4. 5.]\n",
      "[1. 2. 3. 4. 5.]\n"
     ]
    }
   ],
   "source": [
    "#changing data type\n",
    "arr = np.array([1,2,3,4,5])\n",
    "print(arr.astype(np.float64))\n",
    "\n",
    "arr2= np.array([\"1\",\"2\",\"3\",\"4\",\"5\"])\n",
    "print(arr2.astype(np.float64))"
   ]
  },
  {
   "cell_type": "code",
   "execution_count": 41,
   "metadata": {},
   "outputs": [
    {
     "name": "stdout",
     "output_type": "stream",
     "text": [
      "[ 8  4 12 16] \n",
      "\n",
      "[16  4 36 64] \n",
      "\n",
      "[0.5        1.         0.33333333 0.25      ] \n",
      "\n",
      "[16  4 36 64] \n",
      "\n",
      "[2.         1.41421356 2.44948974 2.82842712] \n",
      "\n",
      "[  54.59815003    7.3890561   403.42879349 2980.95798704] \n",
      "\n",
      "5.0 \n",
      "\n",
      "[2 4 6 8] \n",
      "\n",
      "20 \n",
      "\n",
      "[ 4  6 12 20] \n",
      "\n",
      "[ True False  True  True]\n"
     ]
    }
   ],
   "source": [
    "#operations on array and datatype\n",
    "\n",
    "arr = np.array([4,2,6,8] , dtype='int64')\n",
    "print(arr * 2 ,'\\n')\n",
    "print(arr * arr ,'\\n')\n",
    "print(2/arr  ,'\\n')\n",
    "print(arr ** 2 ,'\\n')\n",
    "print(np.sqrt(arr) , '\\n')\n",
    "print(np.exp(arr) , '\\n')\n",
    "print(np.mean(arr) , '\\n')\n",
    "print(np.sort(arr) , '\\n')\n",
    "print(np.sum(arr) , '\\n')\n",
    "print(np.cumsum(arr) , '\\n')\n",
    "\n",
    "\n",
    "arr2= np.array([1,2,3,4])\n",
    "\n",
    "print(arr > arr2)"
   ]
  },
  {
   "cell_type": "code",
   "execution_count": 42,
   "metadata": {},
   "outputs": [
    {
     "name": "stdout",
     "output_type": "stream",
     "text": [
      "[0 1 2 3 4 5 6 7 8 9]\n",
      "[5 6 7]\n",
      "[0 0 0 3 4 5 6 7 8 9]\n"
     ]
    }
   ],
   "source": [
    "# indexing and slicing\n",
    "\n",
    "arr=np.arange(10)\n",
    "print(arr)\n",
    "\n",
    "arr2=arr[5:8]\n",
    "print(arr2)\n",
    "\n",
    "arr[:3]=0  # assigning specific value to some indexes of array\n",
    "print(arr)"
   ]
  },
  {
   "cell_type": "code",
   "execution_count": 108,
   "metadata": {},
   "outputs": [
    {
     "name": "stdout",
     "output_type": "stream",
     "text": [
      "[[-1.48996757  0.67436014 -0.29397452]\n",
      " [ 0.01436092  0.04158438 -1.36624663]\n",
      " [ 1.15214238 -0.63827616  1.94497463]\n",
      " [ 0.50279099  1.30619832  1.49055136]\n",
      " [ 0.30689239 -0.09440126 -1.25076309]] \n",
      "\n",
      "['Umar' 'Umair' 'Nouroz' 'Ali' 'Umar'] \n",
      "\n",
      "[ True False False False  True] \n",
      "\n",
      "[[-1.48996757  0.67436014 -0.29397452]\n",
      " [ 0.30689239 -0.09440126 -1.25076309]] \n",
      "\n",
      "[[ 0.01436092  0.04158438 -1.36624663]\n",
      " [ 1.15214238 -0.63827616  1.94497463]\n",
      " [ 0.50279099  1.30619832  1.49055136]] \n",
      "\n",
      "['Ali' 'Nouroz' 'Umair' 'Umar'] \n",
      "\n"
     ]
    }
   ],
   "source": [
    "#boolean example --imp- the number of array and names shoule be same\n",
    "\n",
    "namesArr= np.array([\"Umar\", \"Umair\", \"Nouroz\", \"Ali\",\"Umar\"])\n",
    "numArr=np.random.randn(5,3)\n",
    "print(numArr , '\\n')\n",
    "print(namesArr , '\\n')\n",
    "print(namesArr == \"Umar\" , '\\n')\n",
    "print(numArr[namesArr==\"Umar\"] , '\\n')\n",
    "print(numArr[~(namesArr==\"Umar\")], '\\n')\n",
    "print(np.unique(namesArr),'\\n')  # unique provides unique elements back and sorts them alphabetically"
   ]
  },
  {
   "cell_type": "code",
   "execution_count": 102,
   "metadata": {},
   "outputs": [
    {
     "name": "stdout",
     "output_type": "stream",
     "text": [
      "[-1.31219923  0.3114249  -0.64400874 -0.0641869 ] \n",
      "\n",
      "[ 0.14812246 -0.53896025  0.05679158 -0.33127801] \n",
      "\n",
      "[ 0.14812246  0.3114249   0.05679158 -0.0641869 ] \n",
      "\n",
      "[-1.31219923 -0.53896025 -0.64400874 -0.33127801] \n",
      "\n"
     ]
    }
   ],
   "source": [
    "arr1= np.random.randn(4)\n",
    "print(arr1 , '\\n')\n",
    "arr2= np.random.randn(4)\n",
    "print(arr2 , '\\n')\n",
    "print(np.maximum(arr1,arr2), '\\n')\n",
    "print(np.minimum(arr2,arr1), '\\n')"
   ]
  }
 ],
 "metadata": {
  "kernelspec": {
   "display_name": "Python 3",
   "language": "python",
   "name": "python3"
  },
  "language_info": {
   "codemirror_mode": {
    "name": "ipython",
    "version": 3
   },
   "file_extension": ".py",
   "mimetype": "text/x-python",
   "name": "python",
   "nbconvert_exporter": "python",
   "pygments_lexer": "ipython3",
   "version": "3.7.4"
  }
 },
 "nbformat": 4,
 "nbformat_minor": 2
}
