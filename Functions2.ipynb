{
 "cells": [
  {
   "cell_type": "code",
   "execution_count": 21,
   "metadata": {},
   "outputs": [
    {
     "name": "stdout",
     "output_type": "stream",
     "text": [
      "33\n"
     ]
    }
   ],
   "source": [
    "def addnum():\n",
    "    firstnum=\"3\"\n",
    "    secondnum=\"3\"\n",
    "    result=firstnum+secondnum\n",
    "    print(result)\n",
    "addnum()    "
   ]
  },
  {
   "cell_type": "code",
   "execution_count": 22,
   "metadata": {},
   "outputs": [
    {
     "name": "stdout",
     "output_type": "stream",
     "text": [
      "30\n"
     ]
    }
   ],
   "source": [
    "def addnum(firstnum,secondnum):\n",
    "    result=firstnum+secondnum\n",
    "    print(result)\n",
    "addnum(10,20)"
   ]
  },
  {
   "cell_type": "code",
   "execution_count": 23,
   "metadata": {},
   "outputs": [
    {
     "name": "stdout",
     "output_type": "stream",
     "text": [
      "30\n"
     ]
    }
   ],
   "source": [
    "def addnum(firstnum,secondnum):\n",
    "    result=firstnum+secondnum\n",
    "    print(result) #function scope ends here\n",
    "\n",
    "firstnum=10\n",
    "secondnum=20\n",
    "\n",
    "addnum(firstnum,secondnum)\n",
    "    \n",
    "    "
   ]
  },
  {
   "cell_type": "code",
   "execution_count": 24,
   "metadata": {},
   "outputs": [
    {
     "name": "stdout",
     "output_type": "stream",
     "text": [
      "30\n"
     ]
    }
   ],
   "source": [
    "def addnum(num1,num2):\n",
    "    result=num1+num2\n",
    "    print(result) #function scope ends here\n",
    "\n",
    "firstnum=10\n",
    "secondnum=20\n",
    "\n",
    "addnum(firstnum,secondnum)"
   ]
  },
  {
   "cell_type": "code",
   "execution_count": 25,
   "metadata": {},
   "outputs": [
    {
     "name": "stdout",
     "output_type": "stream",
     "text": [
      "30\n"
     ]
    }
   ],
   "source": [
    "def addnum(firstnum,secondnum):\n",
    "    result=firstnum+secondnum\n",
    "    print(result) #function scope ends here\n",
    "\n",
    "\n",
    "addnum(firstnum=10,secondnum=20)"
   ]
  },
  {
   "cell_type": "code",
   "execution_count": 30,
   "metadata": {},
   "outputs": [
    {
     "name": "stdout",
     "output_type": "stream",
     "text": [
      "-10\n"
     ]
    }
   ],
   "source": [
    "def addnum(secondnum,firstnum): # positional order changing example\n",
    "    result=secondnum-firstnum\n",
    "    print(result) \n",
    "\n",
    "firstnum=10\n",
    "secondnum=20\n",
    "\n",
    "addnum(firstnum,secondnum)"
   ]
  },
  {
   "cell_type": "code",
   "execution_count": 31,
   "metadata": {},
   "outputs": [
    {
     "name": "stdout",
     "output_type": "stream",
     "text": [
      "-10\n"
     ]
    }
   ],
   "source": [
    "def addnum(ten,twenty): #order changing example\n",
    "    result=ten-secondnum\n",
    "    print(result) \n",
    "\n",
    "firstnum=10\n",
    "secondnum=20\n",
    "\n",
    "addnum(firstnum,secondnum)"
   ]
  },
  {
   "cell_type": "code",
   "execution_count": 79,
   "metadata": {},
   "outputs": [
    {
     "name": "stdout",
     "output_type": "stream",
     "text": [
      "10\n"
     ]
    }
   ],
   "source": [
    "def addnum(secondnum,firstnum): #keyword\n",
    "    result=secondnum-firstnum\n",
    "    print(result) \n",
    "\n",
    "\n",
    "addnum(firstnum=10,secondnum=20)"
   ]
  },
  {
   "cell_type": "code",
   "execution_count": 34,
   "metadata": {},
   "outputs": [
    {
     "name": "stdout",
     "output_type": "stream",
     "text": [
      "-10\n"
     ]
    }
   ],
   "source": [
    "def addnum(ten,twenty=20): #order changing example\n",
    "    result=ten-secondnum\n",
    "    print(result) \n",
    "\n",
    "firstnum=10\n",
    "\n",
    "addnum(firstnum)"
   ]
  },
  {
   "cell_type": "code",
   "execution_count": 43,
   "metadata": {},
   "outputs": [
    {
     "ename": "SyntaxError",
     "evalue": "non-default argument follows default argument (<ipython-input-43-9a13f240ec9c>, line 1)",
     "output_type": "error",
     "traceback": [
      "\u001b[0;36m  File \u001b[0;32m\"<ipython-input-43-9a13f240ec9c>\"\u001b[0;36m, line \u001b[0;32m1\u001b[0m\n\u001b[0;31m    def coursedetail(inst,lang=\"python\",dur):\u001b[0m\n\u001b[0m                    ^\u001b[0m\n\u001b[0;31mSyntaxError\u001b[0m\u001b[0;31m:\u001b[0m non-default argument follows default argument\n"
     ]
    }
   ],
   "source": [
    "def coursedetail(inst,lang=\"python\",dur):\n",
    "    print(inst + \" \" + lang + \"\" + dur )\n",
    "\n",
    "inst=\"Saylani\"\n",
    " \n",
    "coursedetail(inst,dur=\"3 months\")"
   ]
  },
  {
   "cell_type": "code",
   "execution_count": null,
   "metadata": {},
   "outputs": [],
   "source": [
    "def coursedetail(inst,dur,lang=\"python\"):\n",
    "    print(inst + \" \" + lang + \" \" + dur )\n",
    "\n",
    "inst=\"Saylani\"\n",
    " \n",
    "coursedetail(inst,dur=\"3 months\")"
   ]
  },
  {
   "cell_type": "code",
   "execution_count": 56,
   "metadata": {
    "scrolled": true
   },
   "outputs": [
    {
     "name": "stdout",
     "output_type": "stream",
     "text": [
      "My name is Umar Aslam\n",
      "email:umar@saylani.com\n",
      "phone:********\n",
      "city:Karachi\n"
     ]
    }
   ],
   "source": [
    "def personalinfo(name, fname, **params):\n",
    "    print(\"My name is \" + name + \" \" + fname )\n",
    "    for key ,value in params.items() :\n",
    "        print( key + \":\" + value)\n",
    "        \n",
    "personalinfo(\"Umar\",\"Aslam\",email=\"umar@saylani.com\",phone=\"********\",city=\"Karachi\")"
   ]
  },
  {
   "cell_type": "code",
   "execution_count": 82,
   "metadata": {},
   "outputs": [
    {
     "name": "stdout",
     "output_type": "stream",
     "text": [
      "My name is Umar Aslam\n",
      "umar@saylani.com\n",
      "********\n",
      "Karachi\n"
     ]
    }
   ],
   "source": [
    "def personalinfo(name, fname, *params):\n",
    "    print(\"My name is \" + name + \" \" + fname )\n",
    "    for param in params :\n",
    "        print(param)\n",
    "        \n",
    "personalinfo(\"Umar\",\"Aslam\",\"umar@saylani.com\",\"********\",\"Karachi\")"
   ]
  },
  {
   "cell_type": "code",
   "execution_count": 17,
   "metadata": {},
   "outputs": [
    {
     "name": "stdout",
     "output_type": "stream",
     "text": [
      "30\n"
     ]
    },
    {
     "data": {
      "text/plain": [
       "30"
      ]
     },
     "execution_count": 17,
     "metadata": {},
     "output_type": "execute_result"
    }
   ],
   "source": [
    "def returnfunc(num1,num2):\n",
    "    \n",
    "    totalnum=num1+num2\n",
    "    print(totalnum)\n",
    "    \n",
    "    return totalnum\n",
    "\n",
    "returnfunc(10,20)\n"
   ]
  },
  {
   "cell_type": "code",
   "execution_count": 64,
   "metadata": {},
   "outputs": [
    {
     "name": "stdout",
     "output_type": "stream",
     "text": [
      "30\n",
      "70\n",
      "-40\n"
     ]
    }
   ],
   "source": [
    "def returnfunc1(num1,num2):\n",
    "    \n",
    "    totalnum=num1+num2\n",
    "    print(totalnum)\n",
    "    \n",
    "    return totalnum\n",
    "\n",
    "\n",
    "\n",
    "def returnfunc2(num1,num2):\n",
    "    \n",
    "    totalnum=num1+num2\n",
    "    print(totalnum)\n",
    "    \n",
    "    return totalnum\n",
    "\n",
    "\n",
    "\n",
    "result1=returnfunc1(10,20)\n",
    "result2=returnfunc1(30,40)\n",
    "\n",
    "finalresult=result1-result2\n",
    "print(finalresult)"
   ]
  },
  {
   "cell_type": "code",
   "execution_count": 83,
   "metadata": {},
   "outputs": [
    {
     "name": "stdout",
     "output_type": "stream",
     "text": [
      "3.0\n",
      "23.0\n"
     ]
    }
   ],
   "source": [
    "def cal_tax(sales, tax = 10):\n",
    "    complete = (sales * tax)/100\n",
    "    return complete\n",
    "\n",
    "sales = 30\n",
    "sales_tax = cal_tax(sales)\n",
    "print(sales_tax)\n",
    "GST_tax = 5\n",
    "direct_tax = 5\n",
    "in_direct_tax = 5\n",
    "income_tax = 5\n",
    "overall_tax = sales_tax + GST_tax + direct_tax + in_direct_tax + income_tax\n",
    "print(overall_tax)"
   ]
  },
  {
   "cell_type": "code",
   "execution_count": 78,
   "metadata": {},
   "outputs": [
    {
     "name": "stdout",
     "output_type": "stream",
     "text": [
      "Umar\n"
     ]
    },
    {
     "ename": "NameError",
     "evalue": "name 'myname' is not defined",
     "output_type": "error",
     "traceback": [
      "\u001b[0;31m---------------------------------------------------------------------------\u001b[0m",
      "\u001b[0;31mNameError\u001b[0m                                 Traceback (most recent call last)",
      "\u001b[0;32m<ipython-input-78-94cf7bc0b021>\u001b[0m in \u001b[0;36m<module>\u001b[0;34m\u001b[0m\n\u001b[1;32m      4\u001b[0m \u001b[0;34m\u001b[0m\u001b[0m\n\u001b[1;32m      5\u001b[0m \u001b[0mfunc_scope\u001b[0m\u001b[0;34m(\u001b[0m\u001b[0;34m)\u001b[0m\u001b[0;34m\u001b[0m\u001b[0;34m\u001b[0m\u001b[0m\n\u001b[0;32m----> 6\u001b[0;31m \u001b[0mprint\u001b[0m\u001b[0;34m(\u001b[0m\u001b[0mmyname\u001b[0m\u001b[0;34m)\u001b[0m\u001b[0;34m\u001b[0m\u001b[0;34m\u001b[0m\u001b[0m\n\u001b[0m\u001b[1;32m      7\u001b[0m \u001b[0;34m\u001b[0m\u001b[0m\n",
      "\u001b[0;31mNameError\u001b[0m: name 'myname' is not defined"
     ]
    }
   ],
   "source": [
    "def func_scope():\n",
    "    myname=\"Umar\"\n",
    "    print(myname)\n",
    "\n",
    "func_scope()\n",
    "print(myname)\n",
    "\n"
   ]
  },
  {
   "cell_type": "code",
   "execution_count": 87,
   "metadata": {},
   "outputs": [
    {
     "name": "stdout",
     "output_type": "stream",
     "text": [
      "what is your name?Umar\n",
      "Umar is enrolled in  Pyhtgon Programming Saylani Mass Training  3 months\n"
     ]
    }
   ],
   "source": [
    "def courseinfo():\n",
    "    coursename=\"Pyhthon Programming\"\n",
    "    institute=\"Saylani Mass Training\"\n",
    "    duration=\"3 months\"\n",
    "    \n",
    "    return (coursename + \" \" + institute + \" \" + \" \" + duration )\n",
    "\n",
    "crincall=courseinfo()\n",
    "\n",
    "def myinfo():\n",
    "    name=input(\"what is your name?\")\n",
    "    result = name +\" \"+ \"is enrolled in \"+ \" \" + crincall \n",
    "    return result\n",
    "\n",
    "\n",
    "myincall=myinfo()\n",
    "\n",
    "print(myincall)"
   ]
  },
  {
   "cell_type": "code",
   "execution_count": 1,
   "metadata": {},
   "outputs": [
    {
     "name": "stdout",
     "output_type": "stream",
     "text": [
      "Enter a city, or q to quit:q\n"
     ]
    }
   ],
   "source": [
    "user_input='n'\n",
    "while user_input != \"q\": \n",
    "    user_input = input(\"Enter a city, or q to quit:\")"
   ]
  },
  {
   "cell_type": "code",
   "execution_count": 2,
   "metadata": {},
   "outputs": [
    {
     "name": "stdout",
     "output_type": "stream",
     "text": [
      "0\n",
      "write any no?1\n",
      "Enter no again2\n",
      "Enter no again3\n",
      "Enter no again4\n",
      "Enter no again5\n",
      "try your luck next time\n"
     ]
    }
   ],
   "source": [
    "import random\n",
    "randno = random.randint(0, 10)\n",
    "print(randno)\n",
    "userIn = int(input(\"write any no?\"))\n",
    "\n",
    "count = 0\n",
    "while randno != userIn : \n",
    "    count += 1\n",
    "    if count < 5 :\n",
    "            userIn=int(input(\"Enter no again\"))\n",
    "    else :\n",
    "        print(\"try your luck next time\")\n",
    "        break\n",
    "    "
   ]
  },
  {
   "cell_type": "code",
   "execution_count": null,
   "metadata": {},
   "outputs": [],
   "source": []
  }
 ],
 "metadata": {
  "kernelspec": {
   "display_name": "Python 3",
   "language": "python",
   "name": "python3"
  },
  "language_info": {
   "codemirror_mode": {
    "name": "ipython",
    "version": 3
   },
   "file_extension": ".py",
   "mimetype": "text/x-python",
   "name": "python",
   "nbconvert_exporter": "python",
   "pygments_lexer": "ipython3",
   "version": "3.7.3"
  }
 },
 "nbformat": 4,
 "nbformat_minor": 2
}
